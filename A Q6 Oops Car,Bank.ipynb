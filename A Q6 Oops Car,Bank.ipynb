{
 "cells": [
  {
   "cell_type": "markdown",
   "id": "4f50b91d",
   "metadata": {},
   "source": [
    "# 6 a."
   ]
  },
  {
   "cell_type": "code",
   "execution_count": 24,
   "id": "c1013377",
   "metadata": {},
   "outputs": [
    {
     "name": "stdout",
     "output_type": "stream",
     "text": [
      "Model Name:Virtus Color:Red Price:2000 Top Speed:200\n"
     ]
    }
   ],
   "source": [
    "# Using Constructor\n",
    "\n",
    "class Car:\n",
    "    def __init__(self,model_name,color,price,topSpeed):\n",
    "        self.model_name=model_name\n",
    "        self.color=color\n",
    "        self.price=price\n",
    "        self.topSpeed=topSpeed\n",
    "        \n",
    "    def printCar(self):\n",
    "        print(f\"Model Name:{self.model_name} Color:{self.color} Price:{self.price} Top Speed:{self.topSpeed}\")\n",
    "        \n",
    "Car1=Car(\"Virtus\",\"Red\",2000,200)\n",
    "Car1.printCar()\n",
    "\n"
   ]
  },
  {
   "cell_type": "code",
   "execution_count": 22,
   "id": "afec41fe",
   "metadata": {},
   "outputs": [
    {
     "name": "stdout",
     "output_type": "stream",
     "text": [
      "Enter Model Name Jaguar\n",
      "Enter Colour White\n",
      "Enter Price 10000000\n",
      "Enter Top Speed 250\n",
      "Model Name:Jaguar Color:White Price:10000000 Top Speed:250\n"
     ]
    }
   ],
   "source": [
    "# Without Constructor\n",
    "\n",
    "class Car:\n",
    "    def enterDetails(self):\n",
    "        self.model=input(\"Enter Model Name \")\n",
    "        self.color=input(\"Enter Colour \")\n",
    "        self.price=input(\"Enter Price \")\n",
    "        self.topSpeed=input(\"Enter Top Speed \")\n",
    "        \n",
    "    def printCar(self):\n",
    "        print(f\"Model Name:{self.model} Color:{self.color} Price:{self.price} Top Speed:{self.topSpeed}\")\n",
    "        \n",
    "Car1=Car()\n",
    "Car1.enterDetails()\n",
    "Car1.printCar()"
   ]
  },
  {
   "cell_type": "markdown",
   "id": "50bf47a2",
   "metadata": {},
   "source": [
    "# 6 b."
   ]
  },
  {
   "cell_type": "code",
   "execution_count": 27,
   "id": "85ec10b3",
   "metadata": {},
   "outputs": [
    {
     "name": "stdout",
     "output_type": "stream",
     "text": [
      "Bank Name:KGB Number of Customers:200 IFSC Code:12345AA\n",
      "Bank Name:Axis Number of Customers:1000 IFSC Code:S535431D\n"
     ]
    }
   ],
   "source": [
    "class Bank:\n",
    "    def __init__(self,bankName,numCust):\n",
    "        self.bankName=bankName\n",
    "        self.numCust=numCust\n",
    "        \n",
    "class GovtBank(Bank):\n",
    "    def __init__(self,bankName,numCust,IFSC):\n",
    "        super().__init__(bankName,numCust)\n",
    "        self.IFSC=IFSC\n",
    "\n",
    "    def __str__(self):\n",
    "        return (f\"Bank Name:{self.bankName} Number of Customers:{self.numCust} IFSC Code:{self.IFSC}\")\n",
    "    \n",
    "class PrivateBank(Bank):\n",
    "    def __init__(self,bankName,numCust,IFSC):\n",
    "        super().__init__(bankName,numCust)\n",
    "        self.IFSC=IFSC\n",
    "\n",
    "    def __str__(self):\n",
    "        return (f\"Bank Name:{self.bankName} Number of Customers:{self.numCust} IFSC Code:{self.IFSC}\")\n",
    "    \n",
    "bank1=GovtBank(\"KGB\",200,\"12345AA\")\n",
    "print(bank1)\n",
    "bank2=PrivateBank(\"Axis\",1000,\"S535431D\")\n",
    "print(bank2)"
   ]
  },
  {
   "cell_type": "code",
   "execution_count": null,
   "id": "5edbd952",
   "metadata": {},
   "outputs": [],
   "source": []
  }
 ],
 "metadata": {
  "kernelspec": {
   "display_name": "Python 3 (ipykernel)",
   "language": "python",
   "name": "python3"
  },
  "language_info": {
   "codemirror_mode": {
    "name": "ipython",
    "version": 3
   },
   "file_extension": ".py",
   "mimetype": "text/x-python",
   "name": "python",
   "nbconvert_exporter": "python",
   "pygments_lexer": "ipython3",
   "version": "3.11.5"
  }
 },
 "nbformat": 4,
 "nbformat_minor": 5
}
