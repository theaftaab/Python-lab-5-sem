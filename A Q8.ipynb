{
 "cells": [
  {
   "cell_type": "code",
   "execution_count": 1,
   "id": "26e51a8b",
   "metadata": {},
   "outputs": [
    {
     "name": "stdout",
     "output_type": "stream",
     "text": [
      "Number of sentences: 2\n",
      "Number of words: 7\n",
      "Number of characters: 36\n",
      "2 lines copied from Hello.txt to target.txt\n",
      "Name: John, Roll Number: A001, Branch: Computer Science\n",
      "Name: Bob, Roll Number: A003, Branch: Computer Science\n"
     ]
    }
   ],
   "source": [
    "# Task 1\n",
    "filename = input(\"Enter the filename: \")\n",
    "\n",
    "try:\n",
    "    with open(filename, 'r') as file:\n",
    "        content = file.read()\n",
    "        line_content = file.readline()\n",
    "        # Count sentences\n",
    "        sentences = content.count('.') + content.count('!') + content.count('?')\n",
    "        print(\"Number of sentences:\", sentences)\n",
    "\n",
    "        # Count words\n",
    "        words = len(content.split())\n",
    "        print(\"Number of words:\", words)\n",
    "\n",
    "        # Count characters\n",
    "        characters = len(content)\n",
    "        print(\"Number of characters:\", characters)\n",
    "\n",
    "except FileNotFoundError:\n",
    "    print(f\"File '{filename}' not found.\")\n",
    "\n",
    "\n",
    "# Task 2\n",
    "source_filename = \"Hello.txt\"\n",
    "target_filename = \"target.txt\"\n",
    "\n",
    "try:\n",
    "    with open(source_filename, 'r') as source_file, open(target_filename, 'w') as target_file:\n",
    "        lines_copied = 0\n",
    "        for line in source_file:\n",
    "            target_line = line.lower()\n",
    "            target_file.write(target_line)\n",
    "            lines_copied += 1\n",
    "\n",
    "    print(f\"{lines_copied} lines copied from {source_filename} to {target_filename}\")\n",
    "\n",
    "except FileNotFoundError:\n",
    "    print(f\"File '{source_filename}' not found.\")\n",
    "\n",
    "\n",
    "# Task 3\n",
    "class Student:\n",
    "    def __init__(self, name, roll_number, branch):\n",
    "        self.name = name\n",
    "        self.roll_number = roll_number\n",
    "        self.branch = branch\n",
    "\n",
    "# Sample student records\n",
    "students = [\n",
    "    Student(\"John\", \"A001\", \"Computer Science\"),\n",
    "    Student(\"Jane\", \"A002\", \"Electrical Engineering\"),\n",
    "    Student(\"Bob\", \"A003\", \"Computer Science\"),\n",
    "    # Add more student records as needed\n",
    "]\n",
    "\n",
    "# Print details of students in a given branch\n",
    "target_branch = \"Computer Science\"\n",
    "for student in students:\n",
    "    if student.branch == target_branch:\n",
    "        print(f\"Name: {student.name}, Roll Number: {student.roll_number}, Branch: {student.branch}\")"
   ]
  },
  {
   "cell_type": "code",
   "execution_count": 2,
   "id": "604d5e87",
   "metadata": {},
   "outputs": [
    {
     "data": {
      "text/plain": "''"
     },
     "execution_count": 2,
     "metadata": {},
     "output_type": "execute_result"
    }
   ],
   "source": [
    "line_content"
   ]
  },
  {
   "cell_type": "code",
   "execution_count": 14,
   "outputs": [],
   "source": [
    "# Task 1\n",
    "# filename = input(\"Enter the filename: \")\n",
    "filename = 'firstFile.txt'\n",
    "try:\n",
    "    with open(filename, 'r') as file:\n",
    "        content = file.read()\n",
    "        # line_content = file.readlines()\n",
    "        # print(f'number of lines {len(line_content)}')\n",
    "        # Count sentences\n",
    "        # sentences = content.count('.') + content.count('!') + content.count('?')\n",
    "        # print(\"Number of sentences:\", sentences)\n",
    "        #\n",
    "        # # Count words\n",
    "        # words = len(content.split())\n",
    "        # print(\"Number of words:\", words)\n",
    "        #\n",
    "        # # Count characters\n",
    "        # characters = len(content)\n",
    "        # print(\"Number of characters:\", characters)\n",
    "\n",
    "except FileNotFoundError:\n",
    "    print(f\"File '{filename}' not found.\")\n"
   ],
   "metadata": {
    "collapsed": false
   }
  },
  {
   "cell_type": "code",
   "execution_count": 15,
   "outputs": [
    {
     "data": {
      "text/plain": "['Narendra',\n 'Damodardas',\n 'Modi',\n '(Gujarati:',\n '[ˈnəɾendɾə',\n 'dɑmodəɾˈdɑs',\n 'ˈmodiː]',\n 'ⓘ;',\n 'born',\n '17',\n 'September',\n '1950)[b]',\n 'is',\n 'an',\n 'Indian',\n 'politician',\n 'who',\n 'has',\n 'served',\n 'as',\n 'the',\n '14th',\n 'prime',\n 'minister',\n 'of',\n 'India',\n 'since',\n 'May',\n '2014.',\n 'Modi',\n 'was',\n 'the',\n 'chief',\n 'minister',\n 'of',\n 'Gujarat',\n 'from',\n '2001',\n 'to',\n '2014',\n 'and',\n 'is',\n 'the',\n 'Member',\n 'of',\n 'Parliament',\n '(MP)',\n 'for',\n 'Varanasi.',\n 'He',\n 'is',\n 'a',\n 'member',\n 'of',\n 'the',\n 'Bharatiya',\n 'Janata',\n 'Party',\n '(BJP)',\n 'and',\n 'of',\n 'the',\n 'Rashtriya',\n 'Swayamsevak',\n 'Sangh',\n '(RSS),',\n 'a',\n 'right',\n 'wing',\n 'Hindu',\n 'nationalist',\n 'paramilitary',\n 'volunteer',\n 'organisation.',\n 'He',\n 'is',\n 'the',\n 'longest-serving',\n 'prime',\n 'minister',\n 'from',\n 'outside',\n 'the',\n 'Indian',\n 'National',\n 'Congress.']"
     },
     "execution_count": 15,
     "metadata": {},
     "output_type": "execute_result"
    }
   ],
   "source": [
    "content.split()"
   ],
   "metadata": {
    "collapsed": false
   }
  },
  {
   "cell_type": "code",
   "execution_count": null,
   "outputs": [],
   "source": [],
   "metadata": {
    "collapsed": false
   }
  }
 ],
 "metadata": {
  "kernelspec": {
   "display_name": "Python 3 (ipykernel)",
   "language": "python",
   "name": "python3"
  },
  "language_info": {
   "codemirror_mode": {
    "name": "ipython",
    "version": 3
   },
   "file_extension": ".py",
   "mimetype": "text/x-python",
   "name": "python",
   "nbconvert_exporter": "python",
   "pygments_lexer": "ipython3",
   "version": "3.11.5"
  }
 },
 "nbformat": 4,
 "nbformat_minor": 5
}
