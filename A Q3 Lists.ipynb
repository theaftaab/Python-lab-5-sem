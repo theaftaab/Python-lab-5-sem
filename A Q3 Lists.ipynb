{
 "cells": [
  {
   "cell_type": "markdown",
   "id": "69b32fe6",
   "metadata": {},
   "source": [
    "# 3 a."
   ]
  },
  {
   "cell_type": "code",
   "execution_count": 1,
   "id": "41fd25f8",
   "metadata": {},
   "outputs": [
    {
     "name": "stdout",
     "output_type": "stream",
     "text": [
      "Enter a number of elements 3\n",
      "Enter the number 12\n",
      "Enter the number 32\n",
      "Enter the number 423\n",
      "12\n",
      "32\n"
     ]
    }
   ],
   "source": [
    "x=4\n",
    "y=5\n",
    "\n",
    "n=int(input(\"Enter a number of elements \"))\n",
    "\n",
    "ans=[]\n",
    "\n",
    "for i in range(n):\n",
    "    a=int(input(\"Enter the number \"))\n",
    "    ans.append(a)\n",
    "    \n",
    "for i in ans:\n",
    "    if i%x==0 and i%y!=0:\n",
    "        print(i)"
   ]
  },
  {
   "cell_type": "markdown",
   "id": "4fa37b33",
   "metadata": {},
   "source": [
    "# 3 b."
   ]
  },
  {
   "cell_type": "code",
   "execution_count": 7,
   "id": "75ae75d5",
   "metadata": {},
   "outputs": [
    {
     "name": "stdout",
     "output_type": "stream",
     "text": [
      "Enter a number of elements5\n",
      "Enter the number23\n",
      "Enter the number10\n",
      "Enter the number15\n",
      "Enter the number14\n",
      "Enter the number63\n",
      "Even sum is  24\n",
      "Odd sum is  101\n"
     ]
    }
   ],
   "source": [
    "n=int(input(\"Enter a number of elements\"))\n",
    "\n",
    "ans=[]\n",
    "\n",
    "for i in range(n):\n",
    "    a=int(input(\"Enter the number \"))\n",
    "    ans.append(a)\n",
    "\n",
    "even_sum=odd_sum=0\n",
    "    \n",
    "for i in ans:\n",
    "    if i%2==0:\n",
    "        even_sum+=i\n",
    "    else:\n",
    "        odd_sum+=i\n",
    "        \n",
    "print(\"Even sum is \",even_sum)\n",
    "print(\"Odd sum is \",odd_sum)"
   ]
  },
  {
   "cell_type": "markdown",
   "id": "2bec9213",
   "metadata": {},
   "source": [
    "# 3 c."
   ]
  },
  {
   "cell_type": "code",
   "execution_count": 3,
   "id": "34747af7",
   "metadata": {},
   "outputs": [
    {
     "name": "stdout",
     "output_type": "stream",
     "text": [
      "[2, 4, 6, 8, 10]\n"
     ]
    }
   ],
   "source": [
    "n=int(input(\"Enter a number of elements\"))\n",
    "\n",
    "ans=[]\n",
    "fans=[]\n",
    "\n",
    "for i in range(n):\n",
    "\n",
    "    a=int(input(\"Enter the number \"))\n",
    "    ans.append(a)\n",
    "    \n",
    "for i in range(n):\n",
    "    if i%2!=0:fans.append(ans[i])\n",
    "        \n",
    "print(fans)"
   ]
  },
  {
   "cell_type": "markdown",
   "id": "c40a6385",
   "metadata": {},
   "source": [
    "# 3 d."
   ]
  },
  {
   "cell_type": "code",
   "execution_count": 13,
   "id": "238139ab",
   "metadata": {},
   "outputs": [
    {
     "name": "stdout",
     "output_type": "stream",
     "text": [
      "Enter a number of elements9\n",
      "Enter the number 10\n",
      "Enter the number 20\n",
      "Enter the number 40\n",
      "Enter the number 10\n",
      "Enter the number 50\n",
      "Enter the number 30\n",
      "Enter the number 20\n",
      "Enter the number 10\n",
      "Enter the number 80\n",
      "[10, 20, 40, 10, 50, 30, 20, 10, 80]\n",
      "{40, 10, 80, 50, 20, 30}\n"
     ]
    }
   ],
   "source": [
    "n=int(input(\"Enter a number of elements\"))\n",
    "\n",
    "ans=[]\n",
    "\n",
    "\n",
    "for i in range(n):\n",
    "    a=int(input(\"Enter the number \"))\n",
    "    ans.append(a)\n",
    "    \n",
    "fans=list(set(ans))\n",
    "\n",
    "print(ans)\n",
    "print(set(ans))"
   ]
  },
  {
   "cell_type": "code",
   "execution_count": null,
   "id": "e0941da1",
   "metadata": {},
   "outputs": [],
   "source": []
  }
 ],
 "metadata": {
  "kernelspec": {
   "display_name": "Python 3 (ipykernel)",
   "language": "python",
   "name": "python3"
  },
  "language_info": {
   "codemirror_mode": {
    "name": "ipython",
    "version": 3
   },
   "file_extension": ".py",
   "mimetype": "text/x-python",
   "name": "python",
   "nbconvert_exporter": "python",
   "pygments_lexer": "ipython3",
   "version": "3.11.5"
  }
 },
 "nbformat": 4,
 "nbformat_minor": 5
}
