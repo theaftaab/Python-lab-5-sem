{
 "cells": [
  {
   "cell_type": "markdown",
   "id": "61e63369",
   "metadata": {},
   "source": [
    "# 4 a."
   ]
  },
  {
   "cell_type": "code",
   "execution_count": 5,
   "id": "b2930b13",
   "metadata": {},
   "outputs": [
    {
     "name": "stdout",
     "output_type": "stream",
     "text": [
      "Required output: [(6, 24, 12), (60, 12, 6)]\n"
     ]
    }
   ],
   "source": [
    "test_list=[(6,24,12),(60,12,6),(12,18,21)]\n",
    "\n",
    "k=6\n",
    "ans=[]\n",
    "\n",
    "for i in test_list:\n",
    "    flag=0\n",
    "    for j in i:\n",
    "        if j%k!=0:\n",
    "            flag=1\n",
    "    if flag==0:\n",
    "        ans.append(i)\n",
    "        \n",
    "print(\"Required output:\",ans)"
   ]
  },
  {
   "cell_type": "markdown",
   "id": "6d22bcf4",
   "metadata": {},
   "source": [
    "# 4 b."
   ]
  },
  {
   "cell_type": "code",
   "execution_count": 7,
   "id": "5bdc1470",
   "metadata": {},
   "outputs": [
    {
     "name": "stdout",
     "output_type": "stream",
     "text": [
      "[('GFG', 'IS', 'BEST')]\n"
     ]
    }
   ],
   "source": [
    "test_list=[(\"GFG\",\"IS\",\"BEST\"),(\"GFg\",\"AVERAGE\"),(\"GfG\"),(\"Gfg\",\"CS\")]\n",
    "\n",
    "ans=[]\n",
    "\n",
    "for i in test_list:\n",
    "    flag=0\n",
    "    for j in i:\n",
    "        if(j.isupper()!=True):\n",
    "            flag=1\n",
    "    if flag==0:\n",
    "        ans.append(i)\n",
    "        \n",
    "print(ans)"
   ]
  },
  {
   "cell_type": "markdown",
   "id": "083f1110",
   "metadata": {},
   "source": [
    "# 4 c."
   ]
  },
  {
   "cell_type": "code",
   "execution_count": 9,
   "id": "ee3b1582",
   "metadata": {},
   "outputs": [
    {
     "name": "stdout",
     "output_type": "stream",
     "text": [
      "3\n"
     ]
    }
   ],
   "source": [
    "tuple=('a','a','c','b','d')\n",
    "\n",
    "list=['a','b']\n",
    "\n",
    "count=0\n",
    "\n",
    "for i in tuple:\n",
    "    for j in list:\n",
    "        if j==i:\n",
    "            count+=1\n",
    "        \n",
    "print(count)"
   ]
  },
  {
   "cell_type": "code",
   "execution_count": null,
   "id": "05cd45f8",
   "metadata": {},
   "outputs": [],
   "source": []
  }
 ],
 "metadata": {
  "kernelspec": {
   "display_name": "Python 3 (ipykernel)",
   "language": "python",
   "name": "python3"
  },
  "language_info": {
   "codemirror_mode": {
    "name": "ipython",
    "version": 3
   },
   "file_extension": ".py",
   "mimetype": "text/x-python",
   "name": "python",
   "nbconvert_exporter": "python",
   "pygments_lexer": "ipython3",
   "version": "3.11.5"
  }
 },
 "nbformat": 4,
 "nbformat_minor": 5
}
