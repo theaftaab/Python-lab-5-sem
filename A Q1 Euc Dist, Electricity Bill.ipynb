{
 "cells": [
  {
   "cell_type": "markdown",
   "id": "a7295845",
   "metadata": {},
   "source": [
    "# 1.a"
   ]
  },
  {
   "cell_type": "code",
   "execution_count": 13,
   "id": "a215783b",
   "metadata": {},
   "outputs": [],
   "source": [
    "import math"
   ]
  },
  {
   "cell_type": "code",
   "execution_count": 17,
   "id": "b2ddc648",
   "metadata": {},
   "outputs": [
    {
     "name": "stdout",
     "output_type": "stream",
     "text": [
      "Enter the value of x of first point5\n",
      "Enter the value of y of first point4\n",
      "Enter the value of x of second point4\n",
      "Enter the value of y of second point3\n",
      "The distance between the points is  1.4142135623730951\n"
     ]
    }
   ],
   "source": [
    "x1=int(input(\"Enter the value of x of first point\"))\n",
    "y1=int(input(\"Enter the value of y of first point\"))\n",
    "x2=int(input(\"Enter the value of x of second point\"))\n",
    "y2=int(input(\"Enter the value of y of second point\"))\n",
    "dist=math.sqrt(pow((x1-x2),2)+pow((y1-y2),2))\n",
    "print(\"The distance between the points is \",dist)"
   ]
  },
  {
   "cell_type": "markdown",
   "id": "cc6b81d7",
   "metadata": {},
   "source": [
    "# 1.b"
   ]
  },
  {
   "cell_type": "code",
   "execution_count": 1,
   "id": "0e91b3b8",
   "metadata": {},
   "outputs": [
    {
     "name": "stdout",
     "output_type": "stream",
     "text": [
      "Enter no. of units 450\n",
      "The price of electrcity bill is  2830.0\n"
     ]
    }
   ],
   "source": [
    "units=int(input(\"Enter no. of units \"))\n",
    "price=0\n",
    "if units>350:\n",
    "    price=price+1500\n",
    "    units=350\n",
    "if 300<units<=350:\n",
    "    price=price+100+7*(units-300)\n",
    "    units=300\n",
    "if 200<units<=300:\n",
    "    price=price+5+4*(units-200)\n",
    "    units=200\n",
    "if 100<units<=200:\n",
    "    price=price+50+2.5*(units-100)\n",
    "    units=100\n",
    "if 0<units<=100:\n",
    "    price=price+25+1.5*(units)\n",
    "    units=0\n",
    "\n",
    "print(\"The price of electrcity bill is \",price)"
   ]
  },
  {
   "cell_type": "code",
   "execution_count": null,
   "id": "27de2329",
   "metadata": {},
   "outputs": [],
   "source": []
  }
 ],
 "metadata": {
  "kernelspec": {
   "display_name": "Python 3 (ipykernel)",
   "language": "python",
   "name": "python3"
  },
  "language_info": {
   "codemirror_mode": {
    "name": "ipython",
    "version": 3
   },
   "file_extension": ".py",
   "mimetype": "text/x-python",
   "name": "python",
   "nbconvert_exporter": "python",
   "pygments_lexer": "ipython3",
   "version": "3.11.5"
  }
 },
 "nbformat": 4,
 "nbformat_minor": 5
}
