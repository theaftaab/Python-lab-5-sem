{
 "cells": [
  {
   "cell_type": "markdown",
   "id": "efc62927",
   "metadata": {},
   "source": [
    "# 2 a."
   ]
  },
  {
   "cell_type": "code",
   "execution_count": 2,
   "id": "f861a187",
   "metadata": {},
   "outputs": [
    {
     "name": "stdout",
     "output_type": "stream",
     "text": [
      "Enter the email id: anu asd\n",
      "No. of Vowels:  3\n",
      "No. of Consonants:  3\n",
      "No. of Digits:  0\n",
      "No. of Blank spaces:  1\n"
     ]
    }
   ],
   "source": [
    "ans=input(\"Enter the email id: \")\n",
    "v=c=d=b=0\n",
    "for ch in ans:\n",
    "    if ch in 'aeiouAEIOU':\n",
    "        v+=1\n",
    "    elif ch in '0123456789':\n",
    "        d+=1\n",
    "    elif ch.isspace():\n",
    "        b+=1\n",
    "    else:\n",
    "        c+=1\n",
    "\n",
    "print(\"No. of Vowels: \",v)\n",
    "print(\"No. of Consonants: \",c)\n",
    "print(\"No. of Digits: \",d)\n",
    "print(\"No. of Blank spaces: \",b)"
   ]
  },
  {
   "cell_type": "markdown",
   "id": "65c035da",
   "metadata": {},
   "source": [
    "# 2 b."
   ]
  },
  {
   "cell_type": "code",
   "execution_count": 2,
   "id": "9bebd589",
   "metadata": {},
   "outputs": [
    {
     "name": "stdout",
     "output_type": "stream",
     "text": [
      "The Sum of prime no is  142913828922\n",
      "CPU times: user 10.2 s, sys: 39.8 ms, total: 10.2 s\n",
      "Wall time: 10.8 s\n"
     ]
    }
   ],
   "source": [
    "%%time\n",
    "def is_prime(num):\n",
    "    if num<2:\n",
    "        return False\n",
    "    for v in range(2,int(num**0.5)+1):\n",
    "        if num%v==0:\n",
    "            return False\n",
    "    return True\n",
    "\n",
    "limit=2000000\n",
    "prime_sum=0\n",
    "for i in range(2,limit):\n",
    "    if is_prime(i):\n",
    "        prime_sum+=i\n",
    "\n",
    "\n",
    "        \n",
    "print(\"The Sum of prime no is \",prime_sum)"
   ]
  },
  {
   "cell_type": "code",
   "execution_count": null,
   "id": "6da9e6a4",
   "metadata": {},
   "outputs": [],
   "source": []
  }
 ],
 "metadata": {
  "kernelspec": {
   "display_name": "Python 3 (ipykernel)",
   "language": "python",
   "name": "python3"
  },
  "language_info": {
   "codemirror_mode": {
    "name": "ipython",
    "version": 3
   },
   "file_extension": ".py",
   "mimetype": "text/x-python",
   "name": "python",
   "nbconvert_exporter": "python",
   "pygments_lexer": "ipython3",
   "version": "3.11.5"
  }
 },
 "nbformat": 4,
 "nbformat_minor": 5
}
