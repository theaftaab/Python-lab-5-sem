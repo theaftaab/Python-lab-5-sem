{
 "cells": [
  {
   "cell_type": "code",
   "execution_count": 7,
   "id": "5a761cc1",
   "metadata": {},
   "outputs": [
    {
     "name": "stdout",
     "output_type": "stream",
     "text": [
      "Time 1:\n",
      "05:50:15\n",
      "\n",
      "Time 2:\n",
      "02:15:20\n",
      "\n",
      "Sum of Time1 and Time2:\n",
      "08:05:35\n",
      "\n",
      "Difference of Time1 and Time2:\n",
      "03:34:55\n"
     ]
    }
   ],
   "source": [
    "class Time:\n",
    "    def __init__(self,hour,minute,sec):\n",
    "        self.hour=hour\n",
    "        self.minute=minute\n",
    "        self.sec=sec\n",
    "    \n",
    "    def __add__(self,other):\n",
    "        total_sec=self.sec+other.sec+60*(self.minute+other.minute)+3600*(self.hour+other.hour)\n",
    "        new_hour,rem=divmod(total_sec,3600)\n",
    "        new_min,new_sec=divmod(rem,60)\n",
    "        return Time(new_hour,new_min,new_sec)\n",
    "    \n",
    "    def __sub__(self,other):\n",
    "        total_sec=self.sec-other.sec+60*(self.minute-other.minute)+3600*(self.hour-other.hour)\n",
    "        new_hour,rem=divmod(total_sec,3600)\n",
    "        new_min,new_sec=divmod(rem,60)\n",
    "        return Time(new_hour,new_min,new_sec)\n",
    "    \n",
    "    def display(self):\n",
    "        print(f\"{self.hour:02d}:{self.minute:02d}:{self.sec:02d}\")\n",
    "        \n",
    "time1=Time(5,50,15)\n",
    "time2=Time(2,15,20)\n",
    "\n",
    "print(\"Time 1:\")\n",
    "time1.display()\n",
    "\n",
    "print(\"\\nTime 2:\")\n",
    "time2.display()\n",
    "\n",
    "sum_time=time1+time2\n",
    "print(\"\\nSum of Time1 and Time2:\")\n",
    "sum_time.display()\n",
    "\n",
    "diff_time=time1-time2\n",
    "print(\"\\nDifference of Time1 and Time2:\")\n",
    "diff_time.display()"
   ]
  },
  {
   "cell_type": "code",
   "execution_count": null,
   "id": "aeb07266",
   "metadata": {},
   "outputs": [],
   "source": []
  }
 ],
 "metadata": {
  "kernelspec": {
   "display_name": "Python 3 (ipykernel)",
   "language": "python",
   "name": "python3"
  },
  "language_info": {
   "codemirror_mode": {
    "name": "ipython",
    "version": 3
   },
   "file_extension": ".py",
   "mimetype": "text/x-python",
   "name": "python",
   "nbconvert_exporter": "python",
   "pygments_lexer": "ipython3",
   "version": "3.11.5"
  }
 },
 "nbformat": 4,
 "nbformat_minor": 5
}
