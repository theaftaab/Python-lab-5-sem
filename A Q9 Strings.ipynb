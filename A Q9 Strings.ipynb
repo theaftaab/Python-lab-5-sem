{
 "cells": [
  {
   "cell_type": "code",
   "execution_count": 1,
   "id": "3c9d4e9e",
   "metadata": {},
   "outputs": [
    {
     "name": "stdout",
     "output_type": "stream",
     "text": [
      "String is Non-Symmetric.\n",
      "String is Palindrome.\n"
     ]
    }
   ],
   "source": [
    "import matplotlib.pyplot as plt\n",
    "import pandas as pd\n",
    "\n",
    "string1=input(\"Enter a String\")\n",
    "\n",
    "if (len(string1)==1):\n",
    "    print(\"String is Symmetric.\")\n",
    "elif(len(string1)%2==1):\n",
    "    print(\"String is Non-Symmetric.\")\n",
    "else:\n",
    "    str1=string1[0:int(len(string1)/2)]\n",
    "    str2=string1[int(len(string1)/2):]\n",
    "    if(str1==str2):\n",
    "        print(\"String is Symmetric.\")\n",
    "    else:\n",
    "        print(\"String is Non-Symmetric.\")\n",
    "        \n",
    "if(string1[::-1]==string1):\n",
    "    print(\"String is Palindrome.\")\n",
    "else:\n",
    "    print(\"String is NOT a Palindrome.\")"
   ]
  },
  {
   "cell_type": "code",
   "execution_count": 1,
   "id": "7882ba1c",
   "metadata": {},
   "outputs": [
    {
     "name": "stdout",
     "output_type": "stream",
     "text": [
      "Enter a String AbhisHEk\n",
      "No.of vowels :  3 \n",
      "\n",
      "A\n",
      "b\n",
      "h\n",
      "i\n",
      "\n",
      "H\n",
      "\n",
      "k\n"
     ]
    }
   ],
   "source": [
    "string=input(\"Enter a String \")\n",
    "#string=string.lower()\n",
    "\n",
    "vowels=\"aeiouAEIOU\"\n",
    "v_count=0\n",
    "\n",
    "for ch in string:\n",
    "    if ch in vowels:\n",
    "        v_count+=1\n",
    "        \n",
    "print(\"No.of vowels : \",v_count,\"\\n\")\n",
    "\n",
    "for ch in string:\n",
    "    if ch.lower()!='e' and ch.lower()!='s':\n",
    "        print(ch)\n",
    "    else:\n",
    "        print(\"\")"
   ]
  },
  {
   "cell_type": "code",
   "execution_count": 3,
   "id": "73cf36b9",
   "metadata": {},
   "outputs": [
    {
     "name": "stdout",
     "output_type": "stream",
     "text": [
      "Output :  is my country\n"
     ]
    }
   ],
   "source": [
    "string=input(\"Enter a String \")\n",
    "\n",
    "\n",
    "str=string.split()\n",
    "\n",
    "if len(str) > 1:\n",
    "    result_text=' '.join(str[1:])\n",
    "    print('Output : ',result_text)\n",
    "else:\n",
    "    print(\"Text has only one word.\")"
   ]
  },
  {
   "cell_type": "code",
   "execution_count": 7,
   "outputs": [
    {
     "data": {
      "text/plain": "'is my country'"
     },
     "execution_count": 7,
     "metadata": {},
     "output_type": "execute_result"
    }
   ],
   "source": [
    "' '.join(str[1:])"
   ],
   "metadata": {
    "collapsed": false
   }
  },
  {
   "cell_type": "code",
   "execution_count": 40,
   "id": "30628baa",
   "metadata": {},
   "outputs": [
    {
     "name": "stdout",
     "output_type": "stream",
     "text": [
      "Letter Histogram:\n",
      "{'m': 2, 'y': 1, 'n': 1, 'a': 4, 'e': 1, 'i': 1, 's': 1, 'f': 1, 't': 1, 'b': 1}\n"
     ]
    }
   ],
   "source": [
    "def count_letter_histogram(s):\n",
    "    letter_count = {}\n",
    "\n",
    "    for char in s:\n",
    "        if char.isalpha():  # Check if the character is a letter\n",
    "            char = char.lower()  # Ignore case\n",
    "            letter_count[char] = letter_count.get(char, 0) + 1\n",
    "\n",
    "    print(\"Letter Histogram:\")\n",
    "    new_d = dict()\n",
    "    for letter, count in letter_count.items():\n",
    "        # print(f\"{letter}: {count}\")\n",
    "        new_d[letter] = count\n",
    "    print(letter_count)\n",
    "    return new_d\n",
    "input_string = input(\"Enter a string: \")\n",
    "gg = count_letter_histogram(input_string)\n"
   ]
  },
  {
   "cell_type": "code",
   "execution_count": 41,
   "outputs": [
    {
     "name": "stdout",
     "output_type": "stream",
     "text": [
      "Letter Histogram:\n",
      "{'m': 2, 'y': 1, 'n': 1, 'a': 4, 'e': 1, 'i': 1, 's': 1, 'f': 1, 't': 1, 'b': 1}\n"
     ]
    }
   ],
   "source": [
    "s = 'My name is aftaab'\n",
    "letter_count = {}\n",
    "\n",
    "for char in s:\n",
    "    if char.isalpha():  # Check if the character is a letter\n",
    "        char = char.lower()  # Ignore case\n",
    "        letter_count[char] = letter_count.get(char, 0) + 1\n",
    "\n",
    "print(\"Letter Histogram:\")\n",
    "new_d = dict()\n",
    "for letter, count in letter_count.items():\n",
    "    # print(f\"{letter}: {count}\")\n",
    "    new_d[letter] = count\n",
    "print(letter_count)"
   ],
   "metadata": {
    "collapsed": false
   }
  },
  {
   "cell_type": "code",
   "execution_count": 42,
   "outputs": [
    {
     "data": {
      "text/plain": "dict_items([('m', 2), ('y', 1), ('n', 1), ('a', 4), ('e', 1), ('i', 1), ('s', 1), ('f', 1), ('t', 1), ('b', 1)])"
     },
     "execution_count": 42,
     "metadata": {},
     "output_type": "execute_result"
    }
   ],
   "source": [
    "letter_count.items()"
   ],
   "metadata": {
    "collapsed": false
   }
  },
  {
   "cell_type": "code",
   "execution_count": 43,
   "outputs": [
    {
     "name": "stdout",
     "output_type": "stream",
     "text": [
      "m : 2\n",
      "y : 1\n",
      "n : 1\n",
      "a : 4\n",
      "e : 1\n",
      "i : 1\n",
      "s : 1\n",
      "f : 1\n",
      "t : 1\n",
      "b : 1\n"
     ]
    }
   ],
   "source": [
    "for i in letter_count.keys():\n",
    "    v = letter_count.get(i)\n",
    "    print(f'{i} : {v}')"
   ],
   "metadata": {
    "collapsed": false
   }
  },
  {
   "cell_type": "code",
   "execution_count": 30,
   "id": "190afeb5",
   "metadata": {},
   "outputs": [],
   "source": [
    "import pandas as pd\n",
    "# for i in gg:\n",
    "#     # gg[i] = list(gg.get(i)\n",
    "#     # print(gg[i])\n",
    "#     print(list(gg.get(i)))\n",
    "hist_df = pd.DataFrame(gg, index=gg.keys())\n",
    "# display(hist_df)\n",
    "# gg"
   ]
  },
  {
   "cell_type": "code",
   "execution_count": 37,
   "outputs": [
    {
     "data": {
      "text/plain": "<AxesSubplot: >"
     },
     "execution_count": 37,
     "metadata": {},
     "output_type": "execute_result"
    },
    {
     "data": {
      "text/plain": "<Figure size 640x480 with 1 Axes>",
      "image/png": "[encoded data removed]"
     },
     "metadata": {},
     "output_type": "display_data"
    }
   ],
   "source": [
    "import seaborn as sns\n",
    "import matplotlib.pyplot as plt\n",
    "plt.Figure(figsize=(8,12))\n",
    "# sns.barplot(hist_df.transpose())\n",
    "hist_df.iloc[0,:].plot(kind='line', stacked = True)"
   ],
   "metadata": {
    "collapsed": false
   }
  },
  {
   "cell_type": "code",
   "execution_count": null,
   "outputs": [],
   "source": [],
   "metadata": {
    "collapsed": false
   }
  }
 ],
 "metadata": {
  "kernelspec": {
   "display_name": "Python 3 (ipykernel)",
   "language": "python",
   "name": "python3"
  },
  "language_info": {
   "codemirror_mode": {
    "name": "ipython",
    "version": 3
   },
   "file_extension": ".py",
   "mimetype": "text/x-python",
   "name": "python",
   "nbconvert_exporter": "python",
   "pygments_lexer": "ipython3",
   "version": "3.11.5"
  }
 },
 "nbformat": 4,
 "nbformat_minor": 5
}
